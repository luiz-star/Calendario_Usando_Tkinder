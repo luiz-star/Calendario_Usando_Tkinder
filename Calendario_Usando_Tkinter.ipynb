{
  "cells": [
    {
      "cell_type": "markdown",
      "metadata": {
        "id": "view-in-github",
        "colab_type": "text"
      },
      "source": [
        "<a href=\"https://colab.research.google.com/github/luiz-star/Calendario_Usando_Tkinder/blob/main/Calendario_Usando_Tkinter.ipynb\" target=\"_parent\"><img src=\"https://colab.research.google.com/assets/colab-badge.svg\" alt=\"Open In Colab\"/></a>"
      ]
    },
    {
      "cell_type": "markdown",
      "id": "25fbcf4c",
      "metadata": {
        "id": "25fbcf4c"
      },
      "source": [
        "## Aplicação GUI para Calendário com Python usando Tkinter"
      ]
    },
    {
      "cell_type": "markdown",
      "id": "1765601d",
      "metadata": {
        "id": "1765601d"
      },
      "source": [
        "Em Python, podemos fazer GUIs usando o Tkinter. Se você é muito imaginativo e criativo, pode fazer coisas incríveis com o Tkinter.\n",
        "\n",
        "Aqui, faremos um aplicativo GUI de calendário Python usando o Tkinter. Neste aplicativo, o usuário deve inserir o ano para o qual deseja visualizar o calendário e, em seguida, o calendário aparecerá.\n",
        "\n",
        "Instale o Tkinter primeiro usando este comando: pip install tk\n",
        "\n",
        "Também precisaríamos de um pacote Calendar, mas não precisamos instalá-lo. É um pacote padrão que vem automaticamente com python."
      ]
    },
    {
      "cell_type": "code",
      "execution_count": null,
      "id": "be36a428",
      "metadata": {
        "id": "be36a428"
      },
      "outputs": [],
      "source": [
        "#importando calendar module\n",
        "import calendar\n",
        "#importando tkinter module\n",
        "from tkinter import *\n",
        "from tkinter import ttk"
      ]
    },
    {
      "cell_type": "code",
      "execution_count": null,
      "id": "983659c2",
      "metadata": {
        "id": "983659c2"
      },
      "outputs": [],
      "source": [
        "# #Esta função exibe o calendário para um determinado ano \n",
        "\n",
        "def showCalender():\n",
        "    gui = Tk()\n",
        "    gui.config(background='grey')\n",
        "    gui.title(\"Calender for the year\")\n",
        "    gui.geometry(\"550x600\")\n",
        "    year = int(year_field.get())\n",
        "    gui_content= calendar.calendar(year)\n",
        "    calYear = Label(gui, text= gui_content, font= \"Consolas 10 bold\")\n",
        "    calYear.grid(row=5, column=1,padx=20)\n",
        "    gui.mainloop()"
      ]
    },
    {
      "cell_type": "markdown",
      "id": "a480f3c5",
      "metadata": {
        "id": "a480f3c5"
      },
      "source": [
        "## Explicação\n",
        "\n",
        "A função ShowCalender está exibindo o calendário. \n",
        "\n",
        "Você insere um ano na caixa de pesquisa e quando enter é pressionado, como o calendário deve ser exibido é gerenciado aqui. \n",
        "\n",
        "Você define a cor de fundo que é cinza aqui e pode ser alterada no código conforme sua necessidade.\n",
        "\n",
        "Você também define a dimensão do calendário que é 550×600 aqui. Então você pede o ano de entrada na forma inteira.\n",
        "\n",
        "Uma vez que o usuário insere o ano, o conteúdo do calendário é obtido do módulo de calendário do python, passando o ano como um argumento."
      ]
    },
    {
      "cell_type": "markdown",
      "id": "1597c109",
      "metadata": {
        "id": "1597c109"
      },
      "source": [
        "## Código do Driver"
      ]
    },
    {
      "cell_type": "code",
      "execution_count": null,
      "id": "bdcfa318",
      "metadata": {
        "id": "bdcfa318"
      },
      "outputs": [],
      "source": [
        "# Código do driver\n",
        "if __name__=='__main__':\n",
        "    new = Tk()\n",
        "    new.config(background='grey')\n",
        "    new.title(\"Calender\")\n",
        "    new.geometry(\"250x140\")\n",
        "    cal = Label(new, text=\"Calender\",bg='grey',font=(\"times\", 28, \"bold\"))\n",
        "    \n",
        "#Label entrada do Ano\n",
        "    year = Label(new, text=\"Enter year\", bg='dark grey')\n",
        "    \n",
        "# caixa de texto para ano input \n",
        "    year_field=Entry(new)\n",
        "    button = Button(new, text='Show Calender',fg='Black',bg='Blue',command=showCalender)\n"
      ]
    },
    {
      "cell_type": "markdown",
      "id": "56491c6b",
      "metadata": {
        "id": "56491c6b"
      },
      "source": [
        "No código do driver, primeiramente estamos dando cor de fundo para a parte esquerda da tela (como mostra a imagem abaixo)\n",
        "\n",
        "Como é uma janela pequena para fornecer o ano de entrada, definimos sua dimensão como 250 × 140. Na linha do botão abaixo de year_field, chamamos a função showCalendar que criamos acima. \n",
        "\n",
        "Esta função nos mostra o calendário completo para um ano de entrada."
      ]
    },
    {
      "cell_type": "code",
      "execution_count": null,
      "id": "3958dd37",
      "metadata": {
        "id": "3958dd37"
      },
      "outputs": [],
      "source": [
        "#ajustando widgets na posição \n",
        "\n",
        "cal.grid(row=1, column=1)\n",
        "year.grid(row=2, column=1)\n",
        "year_field.grid(row=3, column=1)\n",
        "button.grid(row=4, column=1)\n",
        "\n",
        "new.mainloop()"
      ]
    },
    {
      "cell_type": "markdown",
      "id": "ec7fad44",
      "metadata": {
        "id": "ec7fad44"
      },
      "source": [
        "Ajustando os widgets no calendário também, para isso definimos a localização na grade para tudo.\n",
        "\n",
        "Você pode jogar alterando os parâmetros de linha e coluna da grade para explorar mais."
      ]
    },
    {
      "cell_type": "markdown",
      "id": "b3ecfae8",
      "metadata": {
        "id": "b3ecfae8"
      },
      "source": [
        "Obrigado !!"
      ]
    }
  ],
  "metadata": {
    "kernelspec": {
      "display_name": "Python 3",
      "language": "python",
      "name": "python3"
    },
    "language_info": {
      "codemirror_mode": {
        "name": "ipython",
        "version": 3
      },
      "file_extension": ".py",
      "mimetype": "text/x-python",
      "name": "python",
      "nbconvert_exporter": "python",
      "pygments_lexer": "ipython3",
      "version": "3.8.8"
    },
    "colab": {
      "name": "Calendario_Usando_Tkinter.ipynb",
      "provenance": [],
      "include_colab_link": true
    }
  },
  "nbformat": 4,
  "nbformat_minor": 5
}